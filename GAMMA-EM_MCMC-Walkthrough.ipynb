{
 "cells": [
  {
   "cell_type": "markdown",
   "metadata": {},
   "source": [
    "# Walkthough of the GAMMA-EM & MCMC Pipeline"
   ]
  },
  {
   "cell_type": "markdown",
   "metadata": {},
   "source": [
    "***\n",
    "## Table of contents\n",
    "1. Sampling GAMMA for training and testing data\n",
    "2. Creating the GAMMA-EM model emulators\n",
    "3. Running Markov Chain Monte Carlo simulations\n",
    "4. Finding and plotting MCMC results\n",
    "5. Relevant literature\n",
    "***"
   ]
  },
  {
   "cell_type": "markdown",
   "metadata": {},
   "source": [
    "# 1. Sampling GAMMA for training and testing data\n",
    "\n",
    "This is the step at which you can edit the variables included, their ranges, and what model inputs and outputs that are being emulated. Please note that this is the file to modify when choosing what model inputs and outputs will be compared to observations. It is advised to add that in under the \"Extraction of Outputs\" section of the GAMMA runs.\n",
    "\n",
    "Step 1:  \n",
    "* Edit __GAMMA_sampler_dict.py__ line 122 to specify the number of training samples needed (200 in the current model)\n",
    "* Edit __1_GAMMA_sampling.sb__: change time to 00:10:00, ntasks to 200, mem-per-cpu to 2G\n",
    "* Run command: __sbatch 1_GAMMA_sampling.sb__  \n",
    "* Expected Outputs: \n",
    "   * /samples_GAMMA/em_sample_points200.npy\n",
    "   * /samples_GAMMA/gal_FeH_mean_200.npy\n",
    "   * /samples_GAMMA/gal_FeH_std_200.npy\n",
    "   * /samples_GAMMA/gal_Mstar_200.npy   \n",
    "\n",
    "Step 2:\n",
    "* Edit __GAMMA_sampler_dict.py__ line 122 to specify the number of testing samples needed in the first generation (10000 currently)\n",
    "* Edit __1_GAMMA_sampling.sb__: change time to 01:00:00, ntasks to 200, mem-per-cpu to 2G\n",
    "* Run command: __sbatch 1_GAMMA_sampling.sb__  \n",
    "* Expected Outputs: \n",
    "   * /samples_GAMMA/em_sample_points10000.npy\n",
    "   * /samples_GAMMA/gal_FeH_mean_10000.npy\n",
    "   * /samples_GAMMA/gal_FeH_std_10000.npy\n",
    "   * /samples_GAMMA/gal_Mstar_10000.npy \n",
    "\n",
    "Step 3:\n",
    "* Edit __GAMMA_sampler_dict.py__: change line 122 to specify the number of testing samples needed in the second generation (10000 currently)\n",
    "* Edit __GAMMA_sampler_dict.py__: Add \"\\_2\" to the end of the save lines 154, 277-279 in order to save a second generation of test samples. Otherwise, the first generation sample set will be overwritten\n",
    "* Edit __1_GAMMA_sampling.sb__: change time to 01:00:00, ntasks to 200, mem-per-cpu to 2G\n",
    "* Run command: __sbatch 1_GAMMA_sampling.sb__  \n",
    "* Expected Outputs: \n",
    "   * /samples_GAMMA/em_sample_points10000_2.npy\n",
    "   * /samples_GAMMA/gal_FeH_mean_10000_2.npy\n",
    "   * /samples_GAMMA/gal_FeH_std_10000_2.npy\n",
    "   * /samples_GAMMA/gal_Mstar_10000_2.npy"
   ]
  },
  {
   "cell_type": "markdown",
   "metadata": {},
   "source": [
    "# 2. Creating the GAMMA-EM model emulators"
   ]
  },
  {
   "cell_type": "markdown",
   "metadata": {},
   "source": [
    "Ensure the \"/samples_GAMMA\" folder has the correct contents:\n",
    "* /samples_GAMMA/em_sample_points200.npy  \n",
    "* /samples_GAMMA/gal_FeH_mean_200.npy  \n",
    "* /samples_GAMMA/gal_FeH_std_200.npy  \n",
    "* /samples_GAMMA/gal_Mstar_200.npy \n",
    "* /samples_GAMMA/em_sample_points10000.npy\n",
    "* /samples_GAMMA/gal_FeH_mean_10000.npy\n",
    "* /samples_GAMMA/gal_FeH_std_10000.npy\n",
    "* /samples_GAMMA/gal_Mstar_10000.npy \n",
    "* /samples_GAMMA/em_sample_points10000_2.npy\n",
    "* /samples_GAMMA/gal_FeH_mean_10000_2.npy\n",
    "* /samples_GAMMA/gal_FeH_std_10000_2.npy\n",
    "* /samples_GAMMA/gal_Mstar_10000_2.npy \n",
    "\n",
    "Run command: __sbatch 2_GAMMA_EM_run.sb__\n",
    "\n",
    "Expected Outputs:\n",
    "* /Emulator_results/metallicity_emulator.joblib\n",
    "* /Emulator_results/stellar_mass_emulator.joblib\n",
    "* An image comparing the emulator and GAMMA results, generated from a randomly sampled set of GAMMA parameters\n",
    "* /Emulator_results/Testing_scores.txt"
   ]
  },
  {
   "cell_type": "markdown",
   "metadata": {},
   "source": [
    "# 3. Running Markov Chain Monte Carlo simulations"
   ]
  },
  {
   "cell_type": "markdown",
   "metadata": {},
   "source": [
    "Ensure the \"/Emulator_results\" folder has the correct contents.\n",
    "\n",
    "Edit __MCMC_results.py__: edit lines 58-67 to match variable ranges specified in __GAMMA_sampler_dict.py__. Edit line 100 to match the number of walkers and steps desired (~200, ~10000-50000)\n",
    "\n",
    "Edit __3_MCMC_run.sb__: edit time to match walkers and steps. Needs about 10 minutes for 200 walkers/10000 steps\n",
    "\n",
    "Run command: __sbatch 3_MCMC_run.sb__\n",
    "\n",
    "Expected Outputs:\n",
    "* /MCMC_results/samples_(walker number)w(step number)s.joblib - MCMC samples\n",
    "* /MCMC_results/likelihood_(walker number)w(step number)s.joblib - MCMC likelihoods associated with each step\n",
    "* /MCMC_results/acceptance_frac_(walker number)w(step number)s.txt - Acceptance fractions of each walker"
   ]
  },
  {
   "cell_type": "markdown",
   "metadata": {},
   "source": [
    "# 4. Finding and plotting MCMC results"
   ]
  },
  {
   "cell_type": "markdown",
   "metadata": {},
   "source": [
    "Ensure \"/MCMC_results\" folder has the correct contents - please note that the current github repository lacks the \".joblib\" files because of file size\n",
    "\n",
    "Edit __MCMC_plots.py__: change lines 15-17 to match the number of walkers and steps in the desired samples/likelihood file. Change line 18 to a sensible burn in time (~10-20% of total steps). Also change line 26 to match the variable names.\n",
    "\n",
    "Run command: __sbatch 4_MCMC_plot.sb__\n",
    "\n",
    "Expected Outputs:\n",
    "* /MCMC_results/trace_(walker number)w(step number)s.png\n",
    "* /MCMC_results/likelihood_(walker number)w(step number)s.png\n",
    "* /MCMC_results/triangle_pdfs_(walker number)w(step number)s.png - corner plot\n",
    "* /MCMC_results/best_fit_values_(walker number)w(step number)s.txt - values identified to be the best fit"
   ]
  },
  {
   "cell_type": "markdown",
   "metadata": {},
   "source": [
    "# 5. Relevant literature\n",
    "#### Gaussian Process model emulators\n",
    "* __An intuitive guide to Gaussian Process regression: https://towardsdatascience.com/an-intuitive-guide-to-gaussian-processes-ec2f0b45c71d__\n",
    "* Gaussian Process for Dummies: https://katbailey.github.io/post/gaussian-processes-for-dummies/\n",
    "* Gaussian Processes: A Quick Introduction: http://arxiv.org/abs/1505.02965\n",
    "* Additive Gaussian Processes: http://papers.nips.cc/paper/4221-additive-gaussian-processes.pdf\n",
    "* __Gaussian Process for Machine Learning: http://www.gaussianprocess.org/gpml/chapters/ (note: ignore the classification chapter, this isn't a classification problem)__\n",
    "* Website all about Gaussian Processes: http://www.gaussianprocess.org/\n",
    "* Kernel Cookbook: __https://www.cs.toronto.edu/~duvenaud/cookbook/__\n",
    "* sklearn documentation: https://scikit-learn.org/stable/modules/gaussian_process.html\n",
    "* __Useful stack overflow questions regarding sklearn's multi-input/output GP emulators__\n",
    "    * https://stackoverflow.com/questions/50185399/multiple-output-gaussian-process-regression-in-scikit-learn\n",
    "    * https://stackoverflow.com/questions/43618633/multi-output-spatial-statistics-with-gaussian-processes?noredirect=1&lq=1\n",
    "    \n",
    "##### Markov Chain Monte Carlo \n",
    "* emcee documentation:\n",
    "    * https://emcee.readthedocs.io/en/stable/\n",
    "    * Working github link: https://github.com/dfm/emcee/tree/v2.2.x\n",
    "    * Associated paper: http://arxiv.org/abs/1202.3665"
   ]
  },
  {
   "cell_type": "markdown",
   "metadata": {},
   "source": []
  }
 ],
 "metadata": {
  "kernelspec": {
   "display_name": "Python 3",
   "language": "python",
   "name": "python3"
  },
  "language_info": {
   "codemirror_mode": {
    "name": "ipython",
    "version": 3
   },
   "file_extension": ".py",
   "mimetype": "text/x-python",
   "name": "python",
   "nbconvert_exporter": "python",
   "pygments_lexer": "ipython3",
   "version": "3.7.3"
  }
 },
 "nbformat": 4,
 "nbformat_minor": 2
}
